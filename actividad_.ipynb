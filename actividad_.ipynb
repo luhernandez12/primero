{
  "cells": [
    {
      "cell_type": "markdown",
      "metadata": {
        "id": "view-in-github",
        "colab_type": "text"
      },
      "source": [
        "<a href=\"https://colab.research.google.com/github/luhernandez12/primero/blob/main/actividad_.ipynb\" target=\"_parent\"><img src=\"https://colab.research.google.com/assets/colab-badge.svg\" alt=\"Open In Colab\"/></a>"
      ]
    },
    {
      "cell_type": "code",
      "execution_count": null,
      "metadata": {
        "colab": {
          "base_uri": "https://localhost:8080/"
        },
        "id": "sXx66HmnVBUu",
        "outputId": "666d507a-290e-44cd-d5b1-db3b012a5b3f"
      },
      "outputs": [
        {
          "name": "stdout",
          "output_type": "stream",
          "text": [
            "numero a: 13\n",
            "numero b: 13\n",
            "a es igual a b\n"
          ]
        }
      ],
      "source": [
        "a=int(input(\"numero a: \"))\n",
        "b=int(input(\"numero b: \"))\n",
        "if a>b:\n",
        "  print(\"a es mayor que b\")\n",
        "elif a<b:\n",
        "  print(\"a es menor que b\")\n",
        "elif a==b:\n",
        "  print(\"a es igual a b\")"
      ]
    },
    {
      "cell_type": "code",
      "source": [
        "a =int(input(\"ingrese el valor de a:\"))\n",
        "b =int(input(\"ingrese el valor de b:\"))\n",
        "c=int(input(\"ingrese el valor de c:\"))\n",
        "if a > b and a > c:\n",
        "        print(a)\n",
        "        if b > c:\n",
        "            print(b)\n",
        "            print(c)\n",
        "        else:\n",
        "            print(c)\n",
        "            print(b)\n",
        "if b > a and b> c:\n",
        "        print(b)\n",
        "        if a> c:\n",
        "            print(a)\n",
        "            print(c)\n",
        "        else:\n",
        "            print(c)\n",
        "            print(a)\n",
        "if c > b and c> a:\n",
        "        print(c)\n",
        "        if b>a:\n",
        "            print(b)\n",
        "            print(a)\n",
        "        else:\n",
        "            print(a)\n",
        "            print(b)"
      ],
      "metadata": {
        "colab": {
          "base_uri": "https://localhost:8080/"
        },
        "id": "s314BmsEGAT_",
        "outputId": "cba593e0-e556-4687-9e68-082029c79167"
      },
      "execution_count": null,
      "outputs": [
        {
          "output_type": "stream",
          "name": "stdout",
          "text": [
            "ingrese el valor de a:7\n",
            "ingrese el valor de b:6\n",
            "ingrese el valor de c:8\n",
            "8\n",
            "7\n",
            "6\n"
          ]
        }
      ]
    },
    {
      "cell_type": "code",
      "execution_count": null,
      "metadata": {
        "colab": {
          "base_uri": "https://localhost:8080/"
        },
        "id": "hYSaCPTJZtk7",
        "outputId": "154c09ac-3345-4698-aa4a-62461c335720"
      },
      "outputs": [
        {
          "name": "stdout",
          "output_type": "stream",
          "text": [
            "numero a:1\n",
            "numero b: 2\n"
          ]
        }
      ],
      "source": [
        "Y=int(input(\"numero a:\"))\n",
        "Z=int(input(\"numero b: \"))\n",
        "if Y>Z:\n",
        "  x=1\n",
        "elif Y==Z:\n",
        "  x=2\n",
        "elif Y<Z:\n",
        "  x=3"
      ]
    },
    {
      "cell_type": "code",
      "execution_count": null,
      "metadata": {
        "colab": {
          "base_uri": "https://localhost:8080/"
        },
        "id": "BAiQT8TgZTmN",
        "outputId": "29cae3cb-4109-44bb-f984-a33b2eab6e7c"
      },
      "outputs": [
        {
          "name": "stdout",
          "output_type": "stream",
          "text": [
            "3.99999999999999962\n",
            "aprobado\n"
          ]
        }
      ],
      "source": [
        "\n",
        "nota_1=3*0.3\n",
        "nota_2=3.5*0.15\n",
        "nota_3=4.5*0.15\n",
        "nota_4=5.0*0.20\n",
        "nota_5=4.5*0.20\n",
        "a=input(nota_1+nota_2+nota_3+nota_4+nota_5)\n",
        "if \"a\">=\"3.0\":\n",
        "  print(\"aprobado\")"
      ]
    },
    {
      "cell_type": "code",
      "source": [
        "z=int(input(\"ingresar numero de inscripcion:\"))\n",
        "w=input(\"ingresar numero de nombre:\")\n",
        "q=int(input(\"ingresar numero de patrimonio:\"))\n",
        "r=int(input(\"ingresar numero de estrato:\"))\n",
        "p=0.3\n",
        "e=50000\n",
        "if q>2000000 and r>3:\n",
        "  u=((q*p)+e)\n",
        "  print(\"valor de la matricula es\",u)\n",
        "else:\n",
        "  print(\"valor de la matricula es\",e)\n"
      ],
      "metadata": {
        "colab": {
          "base_uri": "https://localhost:8080/"
        },
        "id": "BTpYRdEMPtQs",
        "outputId": "f6ee38bf-0f66-4578-e9e9-3eb0635126c3"
      },
      "execution_count": null,
      "outputs": [
        {
          "output_type": "stream",
          "name": "stdout",
          "text": [
            "ingresar numero de inscripcion:12\n",
            "ingresar numero de nombre:lu\n",
            "ingresar numero de patrimonio:2300\n",
            "ingresar numero de estrato:2\n",
            "valor de la matricula es 50000\n"
          ]
        }
      ]
    },
    {
      "cell_type": "code",
      "source": [
        "A=int(input(\"ingresar un numero A:\"))\n",
        "B=int(input(\"ingresar un numero B:\"))\n",
        "if A>B:\n",
        "  print(\"A es mayor que B\")\n",
        "elif B>A:\n",
        "  print(\"A es menor que B\")\n",
        "elif A==B:\n",
        "  print(\"A es igual a B\")"
      ],
      "metadata": {
        "colab": {
          "base_uri": "https://localhost:8080/"
        },
        "id": "hkYaK-P5Q2-g",
        "outputId": "e16b6402-d024-437a-bf82-b9df6723a827"
      },
      "execution_count": null,
      "outputs": [
        {
          "output_type": "stream",
          "name": "stdout",
          "text": [
            "ingresar un numero A:1\n",
            "ingresar un numero B:1\n",
            "A es igual a B\n"
          ]
        }
      ]
    },
    {
      "cell_type": "code",
      "source": [
        "masa_1=float(int(input(\"ingresar masa de esfera 1: \")))\n",
        "masa_2=float(int(input(\"ingresar masa de esfera 2: \")))\n",
        "masa_3=float(int(input(\"ingresar masa de esfera 3: \")))\n",
        "radio_1=float(int(input(\"ingresar radio de esfera 1: \")))\n",
        "radio_2=float(int(input(\"ingresar radio de esfera 2: \")))\n",
        "radio_3=float(int(input(\"ingresar radio de esfera 3: \")))\n",
        "r=4/3\n",
        "pi=3.14\n",
        "volumen_1=r*pi*radio_1**3\n",
        "volumen_2=r*pi*radio_2**3\n",
        "volumen_3=r*pi*radio_3**3\n",
        "densidad_esfera_1=masa_1/volumen_1\n",
        "print(\"la densidad de la esfera 1 es\",densidad_esfera_1)\n",
        "densidad_esfera_2=masa_2/volumen_2\n",
        "print(\"la desidad de la esfera 2 es\",densidad_esfera_2)\n",
        "densidad_esfera_3=masa_3/volumen_3\n",
        "print(\"la densidad de la esfera 3 es \",densidad_esfera_3)\n",
        "if densidad_esfera_1>densidad_esfera_2 and densidad_esfera_1>densidad_esfera_3:\n",
        "  print(\"la esfera 1 tiene la mayor densidad\")\n",
        "elif densidad_esfera_2>densidad_esfera_1 and densidad_esfera_2>densidad_esfera_3:\n",
        "  print(\" la esfera 2 tiene la mayor densidad\")\n",
        "else:\n",
        "  print(\" la esfera 3 tiene la mayor densidad\")"
      ],
      "metadata": {
        "id": "O3XK5xONTKh7",
        "colab": {
          "base_uri": "https://localhost:8080/"
        },
        "outputId": "621f8c5d-4466-4a51-f405-a7cbfdc409d0"
      },
      "execution_count": 19,
      "outputs": [
        {
          "output_type": "stream",
          "name": "stdout",
          "text": [
            "ingresar masa de esfera 1: 2\n",
            "ingresar masa de esfera 2: 1\n",
            "ingresar masa de esfera 3: 5\n",
            "ingresar radio de esfera 1: 1\n",
            "ingresar radio de esfera 2: 1\n",
            "ingresar radio de esfera 3: 1\n",
            "la densidad de la esfera 1 es 0.47770700636942676\n",
            "la desidad de la esfera 2 es 0.23885350318471338\n",
            "la densidad de la esfera 3 es  1.194267515923567\n",
            " la esfera 3 tiene la mayor densidad\n"
          ]
        }
      ]
    },
    {
      "cell_type": "code",
      "source": [
        "numero_1=int(input(\"ingresar un munero 1:\"))\n",
        "numero_2=int(input(\"ingresar un munero 2:\"))\n",
        "numero_3=int(input(\"ingresar un munero 3:\"))\n",
        "numero_4=int(input(\"ingresar un munero 4:\"))\n",
        "if numero_1>numero_2 and numero_1>numero_3 and numero_1>numero_4:\n",
        "  valor_mayor=numero_1\n",
        "elif numero_2>numero_1 and numero_2>numero_3 and numero_2>numero_4:\n",
        "  valor_mayor=numero_2\n",
        "elif numero_3>numero_1 and numero_3>numero_2 and numero_3>numero_4:\n",
        "  valor_mayor=numero_3\n",
        "else:\n",
        "  valor_mayor=numero_4\n",
        "\n",
        "if numero_1<numero_2 and numero_1<numero_3 and numero_1<numero_4:\n",
        "  valor_menor=numero_1\n",
        "elif numero_2<numero_1 and numero_2<numero_3 and numero_2<numero_4:\n",
        "  valor_menor=numero_2\n",
        "elif numero_3<numero_1 and numero_3<numero_2 and numero_3<numero_4:\n",
        "  valor_menor=numero_3\n",
        "else:\n",
        "  valor_menor=numero_4\n",
        "suma=valor_mayor+valor_menor\n",
        "print(\"la suma del valor mayor y el valor menor es:\",suma)\n"
      ],
      "metadata": {
        "colab": {
          "base_uri": "https://localhost:8080/"
        },
        "id": "aUSGh1vCcK8B",
        "outputId": "d699d553-ceb8-403b-b429-49b2f9b2e2f6"
      },
      "execution_count": 27,
      "outputs": [
        {
          "output_type": "stream",
          "name": "stdout",
          "text": [
            "ingresar un munero 1:2\n",
            "ingresar un munero 2:3\n",
            "ingresar un munero 3:4\n",
            "ingresar un munero 4:2\n",
            "la suma del valor amyor y el valor menor es: 6\n"
          ]
        }
      ]
    },
    {
      "cell_type": "code",
      "source": [
        ":"
      ],
      "metadata": {
        "id": "9afjn0DpTKs3"
      },
      "execution_count": null,
      "outputs": []
    },
    {
      "cell_type": "markdown",
      "source": [
        "# Sección nueva"
      ],
      "metadata": {
        "id": "atXsiOQRSNUR"
      }
    }
  ],
  "metadata": {
    "colab": {
      "provenance": [],
      "authorship_tag": "ABX9TyNYBdhH97nIzawbe/YdIFQp",
      "include_colab_link": true
    },
    "kernelspec": {
      "display_name": "Python 3",
      "name": "python3"
    },
    "language_info": {
      "name": "python"
    }
  },
  "nbformat": 4,
  "nbformat_minor": 0
}