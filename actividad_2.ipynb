{
  "nbformat": 4,
  "nbformat_minor": 0,
  "metadata": {
    "colab": {
      "provenance": [],
      "authorship_tag": "ABX9TyOLaFXzDxaMb5KPixCHP++s",
      "include_colab_link": true
    },
    "kernelspec": {
      "name": "python3",
      "display_name": "Python 3"
    },
    "language_info": {
      "name": "python"
    }
  },
  "cells": [
    {
      "cell_type": "markdown",
      "metadata": {
        "id": "view-in-github",
        "colab_type": "text"
      },
      "source": [
        "<a href=\"https://colab.research.google.com/github/luhernandez12/primero/blob/segunda-actividad/actividad_2.ipynb\" target=\"_parent\"><img src=\"https://colab.research.google.com/assets/colab-badge.svg\" alt=\"Open In Colab\"/></a>"
      ]
    },
    {
      "cell_type": "code",
      "execution_count": null,
      "metadata": {
        "id": "RcHAbcLkbbLK"
      },
      "outputs": [],
      "source": [
        "veces= int(input(\" ingresar multiplicador: \"))\n",
        "num=int(input(\"ingresar multiplicando:\"))\n",
        "acum=0\n",
        "while True:\n",
        "  acum+=num\n",
        "  veces-=1\n",
        "  if veces==0:\n",
        "    print(acum)\n",
        "    break"
      ]
    },
    {
      "cell_type": "code",
      "source": [
        "sum=0\n",
        "cont=1\n",
        "cant_notas=int(input(\"ingresar el numero de notas a promediar:\"))\n",
        "while cont<=cant_notas:\n",
        "  notas=float(input(\"ingresar nota:\"))\n",
        "  if notas<0:\n",
        "    print(\"las notas deben ser mayores a cero\")\n",
        "  elif notas>5:\n",
        "    print(\"la nota debe ser menores que 5\")\n",
        "  sum+=notas\n",
        "  cont+=1\n",
        "print(sum/cant_notas)"
      ],
      "metadata": {
        "id": "Lm0GjYfkb1Rg",
        "colab": {
          "base_uri": "https://localhost:8080/"
        },
        "outputId": "38c5f057-95d9-42f5-a59f-6d6afe954459"
      },
      "execution_count": null,
      "outputs": [
        {
          "output_type": "stream",
          "name": "stdout",
          "text": [
            "ingresar el numero de notas a promediar:3\n",
            "ingresar nota:2\n",
            "ingresar nota:8\n",
            "la nota debe ser menores que 5\n",
            "ingresar nota:-3\n",
            "las notas deben ser mayores a cero\n",
            "2.3333333333333335\n"
          ]
        }
      ]
    },
    {
      "cell_type": "code",
      "source": [],
      "metadata": {
        "id": "dc4eZ2dSc98k"
      },
      "execution_count": null,
      "outputs": []
    },
    {
      "cell_type": "code",
      "source": [],
      "metadata": {
        "id": "2w6381Adc-u0"
      },
      "execution_count": null,
      "outputs": []
    }
  ]
}